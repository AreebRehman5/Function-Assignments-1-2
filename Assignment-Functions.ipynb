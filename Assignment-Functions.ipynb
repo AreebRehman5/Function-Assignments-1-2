{
 "cells": [
  {
   "cell_type": "code",
   "execution_count": 1,
   "id": "1ccd2c96-5836-4694-a18e-8f74f33be98b",
   "metadata": {},
   "outputs": [
    {
     "name": "stdout",
     "output_type": "stream",
     "text": [
      "6\n"
     ]
    }
   ],
   "source": [
    "def find_max(a, b, c):\n",
    "    return max(a, b, c)\n",
    "\n",
    "print(find_max(3, 6, -5))"
   ]
  },
  {
   "cell_type": "code",
   "execution_count": 3,
   "id": "6926de4b-5d71-48b4-961e-953b31e579a5",
   "metadata": {},
   "outputs": [
    {
     "name": "stdout",
     "output_type": "stream",
     "text": [
      "20\n"
     ]
    }
   ],
   "source": [
    "def sum_list(numbers):\n",
    "    return sum(numbers)\n",
    "\n",
    "print(sum_list([8, 2, 3, 0, 7]))"
   ]
  },
  {
   "cell_type": "code",
   "execution_count": 5,
   "id": "0754c3f7-70f9-4055-8bb4-0001b833c0cd",
   "metadata": {},
   "outputs": [
    {
     "name": "stdout",
     "output_type": "stream",
     "text": [
      "-336\n"
     ]
    }
   ],
   "source": [
    "def multiply_list(numbers):\n",
    "    result = 1\n",
    "    for num in numbers:\n",
    "        result *= num\n",
    "    return result\n",
    "\n",
    "print(multiply_list([8, 2, 3, -1, 7]))"
   ]
  },
  {
   "cell_type": "code",
   "execution_count": 7,
   "id": "659375bd-ee18-4490-a473-8c8bca722951",
   "metadata": {},
   "outputs": [
    {
     "name": "stdout",
     "output_type": "stream",
     "text": [
      "dcba4321\n"
     ]
    }
   ],
   "source": [
    "def reverse_string(s):\n",
    "    return s[::-1]\n",
    "\n",
    "print(reverse_string(\"1234abcd\"))"
   ]
  },
  {
   "cell_type": "code",
   "execution_count": 9,
   "id": "40307956-0085-4908-bd0c-9a9bb8d9a5ac",
   "metadata": {},
   "outputs": [
    {
     "name": "stdout",
     "output_type": "stream",
     "text": [
      "120\n"
     ]
    }
   ],
   "source": [
    "def factorial(n):\n",
    "    if n == 0 or n == 1:\n",
    "        return 1\n",
    "    else:\n",
    "        return n * factorial(n - 1)\n",
    "\n",
    "print(factorial(5))"
   ]
  },
  {
   "cell_type": "code",
   "execution_count": 11,
   "id": "6d916e87-3c75-4958-9519-40a68dd86e2c",
   "metadata": {},
   "outputs": [
    {
     "name": "stdout",
     "output_type": "stream",
     "text": [
      "True\n"
     ]
    }
   ],
   "source": [
    "def is_within_range(number, start, end):\n",
    "    return start <= number <= end\n",
    "\n",
    "print(is_within_range(5, 1, 10))"
   ]
  },
  {
   "cell_type": "code",
   "execution_count": 13,
   "id": "d4d3bc71-4f4b-4892-ad20-6b1da98d4090",
   "metadata": {},
   "outputs": [
    {
     "name": "stdout",
     "output_type": "stream",
     "text": [
      "No. of Upper case characters: 3\n",
      "No. of Lower case characters: 12\n"
     ]
    }
   ],
   "source": [
    "def count_case(s):\n",
    "    upper = sum(1 for char in s if char.isupper())\n",
    "    lower = sum(1 for char in s if char.islower())\n",
    "    return upper, lower\n",
    "\n",
    "upper, lower = count_case(\"The quick Brow Fox\")\n",
    "print(f\"No. of Upper case characters: {upper}\")\n",
    "print(f\"No. of Lower case characters: {lower}\")"
   ]
  },
  {
   "cell_type": "code",
   "execution_count": 15,
   "id": "47bc2b78-618c-481e-8bb1-cec08cd32efa",
   "metadata": {},
   "outputs": [
    {
     "name": "stdout",
     "output_type": "stream",
     "text": [
      "[1, 2, 3, 4, 5]\n"
     ]
    }
   ],
   "source": [
    "def unique_elements(lst):\n",
    "    return list(set(lst))\n",
    "\n",
    "print(unique_elements([1, 2, 3, 3, 3, 3, 4, 5]))"
   ]
  },
  {
   "cell_type": "code",
   "execution_count": 17,
   "id": "ee614f42-61d9-4101-b7b1-19c9923945f3",
   "metadata": {},
   "outputs": [
    {
     "name": "stdout",
     "output_type": "stream",
     "text": [
      "True\n",
      "False\n"
     ]
    }
   ],
   "source": [
    "def is_prime(n):\n",
    "    if n <= 1:\n",
    "        return False\n",
    "    for i in range(2, int(n**0.5) + 1):\n",
    "        if n % i == 0:\n",
    "            return False\n",
    "    return True\n",
    "\n",
    "print(is_prime(29))  \n",
    "print(is_prime(4))   "
   ]
  },
  {
   "cell_type": "code",
   "execution_count": 19,
   "id": "fda5aed5-46f0-48bc-b7bb-ea8efd92f263",
   "metadata": {},
   "outputs": [
    {
     "name": "stdout",
     "output_type": "stream",
     "text": [
      "[2, 4, 6, 8]\n"
     ]
    }
   ],
   "source": [
    "def even_numbers(lst):\n",
    "    return [num for num in lst if num % 2 == 0]\n",
    "\n",
    "print(even_numbers([1, 2, 3, 4, 5, 6, 7, 8, 9]))"
   ]
  },
  {
   "cell_type": "code",
   "execution_count": 21,
   "id": "d245c0be-0f02-44c3-963e-fba9fce8313e",
   "metadata": {},
   "outputs": [
    {
     "name": "stdout",
     "output_type": "stream",
     "text": [
      "True\n",
      "True\n",
      "False\n"
     ]
    }
   ],
   "source": [
    "def is_perfect(n):\n",
    "    divisors = [i for i in range(1, n) if n % i == 0]\n",
    "    return sum(divisors) == n\n",
    "\n",
    "# Example usage\n",
    "print(is_perfect(6))   \n",
    "print(is_perfect(28))  \n",
    "print(is_perfect(12))  "
   ]
  },
  {
   "cell_type": "code",
   "execution_count": null,
   "id": "1b34f909-1dfa-4c64-8eff-00645d23adbd",
   "metadata": {},
   "outputs": [],
   "source": []
  }
 ],
 "metadata": {
  "kernelspec": {
   "display_name": "Python 3 (ipykernel)",
   "language": "python",
   "name": "python3"
  },
  "language_info": {
   "codemirror_mode": {
    "name": "ipython",
    "version": 3
   },
   "file_extension": ".py",
   "mimetype": "text/x-python",
   "name": "python",
   "nbconvert_exporter": "python",
   "pygments_lexer": "ipython3",
   "version": "3.12.7"
  }
 },
 "nbformat": 4,
 "nbformat_minor": 5
}
